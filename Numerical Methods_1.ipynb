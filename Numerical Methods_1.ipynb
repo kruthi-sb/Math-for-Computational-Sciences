{
 "cells": [
  {
   "attachments": {},
   "cell_type": "markdown",
   "metadata": {},
   "source": [
    "# Regula Falsi Method"
   ]
  },
  {
   "cell_type": "code",
   "execution_count": 1,
   "metadata": {},
   "outputs": [],
   "source": [
    "import math\n",
    "def eq(x):\n",
    "    y = math.cos(x) +1 -(3*x)\n",
    "    #y = x**3 -2*x -5\n",
    "    return y\n"
   ]
  },
  {
   "cell_type": "code",
   "execution_count": 2,
   "metadata": {},
   "outputs": [],
   "source": [
    "a= b = 0\n",
    "def iterate(eq, a, b):\n",
    "\n",
    "    '''there is something wrong here'''\n",
    "    if a == b == 0:\n",
    "        f_b = 0\n",
    "        while(f_b >= 0 ):\n",
    "            for b in range(-5, 2):\n",
    "                f_b = eq(b)\n",
    "        if f_b < 0:\n",
    "            a = b - 1\n",
    "        else:\n",
    "            a = b + 1\n",
    "        f_a = eq(a)\n",
    "        ################\n",
    "\n",
    "    print(\"\\n iteration started\")\n",
    "    f_b = eq(b)\n",
    "    f_a = eq(a)\n",
    "    root = ((a*f_b) - (b*f_a))/(f_b - f_a)\n",
    "    f_root = eq(root)\n",
    "    print(\"root: \", '%.5f' %root)\n",
    "    #print the root error upto 6 decimal places\n",
    "    print(\"root error: \", '%.7f' % f_root)\n",
    "    \n",
    "    if (f_root >= 0 and f_b <= 0) and (f_root > 0.0001):\n",
    "        #print(\"the root is: \", root)\n",
    "        print(\"case 1\")\n",
    "        print(\"root lies between\", root, \"and\", b)\n",
    "        a = root\n",
    "        b = b\n",
    "        f_a = f_root\n",
    "        f_b = f_b\n",
    "\n",
    "        iterate(eq, a, b)\n",
    "\n",
    "    elif (f_root <= 0 and f_b >= 0) and (f_root > 0.0001):\n",
    "        print(\"case 2\")\n",
    "        print(\"root lies between\", b, \"and\", root)\n",
    "        a = b\n",
    "        b = root\n",
    "        f_a = f_b\n",
    "        f_b = f_root\n",
    "\n",
    "        iterate(eq, a, b)\n",
    "    \n",
    "    elif (f_root >= 0 and f_a <= 0) and (f_root > 0.0001):\n",
    "        print(\"case 3\") \n",
    "        print(\"root lies between\", root, \"and\", a)\n",
    "        a = root\n",
    "        b = a\n",
    "        f_a = f_root\n",
    "        f_b = f_a\n",
    "        iterate(eq, a, b)\n",
    "\n",
    "    elif (f_root <= 0 and f_a >= 0) and (f_root > 0.0001):\n",
    "        print(\"case 4\") \n",
    "        print(\"root lies between\", a, \"and\", root)\n",
    "        a = a\n",
    "        b = root\n",
    "        f_a = f_a\n",
    "        f_b = f_root\n",
    "        iterate(eq, a, b)\n",
    "\n",
    "    else: \n",
    "        print(\"\\nexit\")\n",
    "\n"
   ]
  },
  {
   "cell_type": "code",
   "execution_count": 3,
   "metadata": {},
   "outputs": [
    {
     "name": "stdout",
     "output_type": "stream",
     "text": [
      "\n",
      " iteration started\n",
      "root:  0.57809\n",
      "root error:  0.1032549\n",
      "case 1\n",
      "root lies between 0.5780851903310178 and 1\n",
      "\n",
      " iteration started\n",
      "root:  0.60596\n",
      "root error:  0.0040808\n",
      "case 1\n",
      "root lies between 0.6059585718749196 and 1\n",
      "\n",
      " iteration started\n",
      "root:  0.60706\n",
      "root error:  0.0001590\n",
      "case 1\n",
      "root lies between 0.6070571029597612 and 1\n",
      "\n",
      " iteration started\n",
      "root:  0.60710\n",
      "root error:  0.0000062\n",
      "\n",
      "exit\n"
     ]
    }
   ],
   "source": [
    "iterate(eq, a, b)"
   ]
  },
  {
   "cell_type": "code",
   "execution_count": null,
   "metadata": {},
   "outputs": [],
   "source": []
  }
 ],
 "metadata": {
  "kernelspec": {
   "display_name": "Python 3",
   "language": "python",
   "name": "python3"
  },
  "language_info": {
   "codemirror_mode": {
    "name": "ipython",
    "version": 3
   },
   "file_extension": ".py",
   "mimetype": "text/x-python",
   "name": "python",
   "nbconvert_exporter": "python",
   "pygments_lexer": "ipython3",
   "version": "3.11.1"
  },
  "orig_nbformat": 4
 },
 "nbformat": 4,
 "nbformat_minor": 2
}
